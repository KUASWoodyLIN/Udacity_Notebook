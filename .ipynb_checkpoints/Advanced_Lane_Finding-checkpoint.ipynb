{
 "cells": [
  {
   "cell_type": "markdown",
   "metadata": {},
   "source": [
    "# Distortion Correction\n",
    "\n",
    "![Distortion Correction](./images/Distortion_Correction.png)\n",
    "\n",
    "\n",
    "![Radial distortion](./images/Radial_distortion.png)\n",
    "![Radial distortion coefficients](./images/Radial_distortion_coefficients.png)\n",
    "\n",
    "\n",
    "![Tangential distortion](./images/Tangential_distortion.png)\n",
    "![Tangential distortion coefficients](./images/Tangential_distortion_coefficients.png)"
   ]
  },
  {
   "cell_type": "code",
   "execution_count": null,
   "metadata": {},
   "outputs": [],
   "source": []
  }
 ],
 "metadata": {
  "kernelspec": {
   "display_name": "tensorflow3",
   "language": "python",
   "name": "tensorflow3"
  },
  "language_info": {
   "codemirror_mode": {
    "name": "ipython",
    "version": 3
   },
   "file_extension": ".py",
   "mimetype": "text/x-python",
   "name": "python",
   "nbconvert_exporter": "python",
   "pygments_lexer": "ipython3",
   "version": "3.5.2"
  }
 },
 "nbformat": 4,
 "nbformat_minor": 2
}
