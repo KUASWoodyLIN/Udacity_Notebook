{
 "cells": [
  {
   "cell_type": "markdown",
   "metadata": {},
   "source": [
    "## Imports"
   ]
  },
  {
   "cell_type": "code",
   "execution_count": 1,
   "metadata": {},
   "outputs": [],
   "source": [
    "import os\n",
    "import time\n",
    "from datetime import timedelta\n",
    "import numpy as np\n",
    "import matplotlib.pyplot as plt\n",
    "import tensorflow as tf\n",
    "from sklearn.metrics import confusion_matrix"
   ]
  },
  {
   "cell_type": "code",
   "execution_count": 2,
   "metadata": {},
   "outputs": [
    {
     "data": {
      "text/plain": [
       "'1.4.1'"
      ]
     },
     "execution_count": 2,
     "metadata": {},
     "output_type": "execute_result"
    }
   ],
   "source": [
    "tf.VERSION"
   ]
  },
  {
   "cell_type": "markdown",
   "metadata": {},
   "source": [
    "## PATH Setting"
   ]
  },
  {
   "cell_type": "code",
   "execution_count": 3,
   "metadata": {},
   "outputs": [],
   "source": [
    "ROOT_PATH = os.path.expanduser('~')\n",
    "DATA_PATH = os.path.join(ROOT_PATH, 'dataset')\n",
    "MNIST_PATH = os.path.join(DATA_PATH, 'mnist')\n",
    "PREJECT_PATH = os.getcwd()\n",
    "MODELS_PATH = os.path.join(PREJECT_PATH, 'models/mnist')"
   ]
  },
  {
   "cell_type": "markdown",
   "metadata": {},
   "source": [
    "## Load MNIST Data"
   ]
  },
  {
   "cell_type": "code",
   "execution_count": 4,
   "metadata": {},
   "outputs": [
    {
     "name": "stdout",
     "output_type": "stream",
     "text": [
      "Extracting /home/woodylin/dataset/mnist/train-images-idx3-ubyte.gz\n",
      "Extracting /home/woodylin/dataset/mnist/train-labels-idx1-ubyte.gz\n",
      "Extracting /home/woodylin/dataset/mnist/t10k-images-idx3-ubyte.gz\n",
      "Extracting /home/woodylin/dataset/mnist/t10k-labels-idx1-ubyte.gz\n"
     ]
    }
   ],
   "source": [
    "from tensorflow.examples.tutorials.mnist import input_data\n",
    "data = input_data.read_data_sets(MNIST_PATH)\n",
    "# Load training and eval data\n",
    "train_data = data.train.images # Returns np.array\n",
    "train_labels = data.train.labels\n",
    "valid_data = data.validation.images # Returns np.array\n",
    "valid_labels = data.validation.labels\n",
    "test_data = data.test.images\n",
    "test_labels = data.test.labels"
   ]
  },
  {
   "cell_type": "code",
   "execution_count": 5,
   "metadata": {},
   "outputs": [
    {
     "name": "stdout",
     "output_type": "stream",
     "text": [
      "Size of:\n",
      "- Training-set:\t\t55000\n",
      "- Test-set:\t\t10000\n",
      "- Validation-set:\t5000\n",
      "- Input data shape\t(55000, 784)\n",
      "- Output data shape\t(10000,)\n"
     ]
    }
   ],
   "source": [
    "print(\"Size of:\")\n",
    "print(\"- Training-set:\\t\\t{}\".format(len(data.train.labels)))\n",
    "print(\"- Test-set:\\t\\t{}\".format(len(data.test.labels)))\n",
    "print(\"- Validation-set:\\t{}\".format(len(data.validation.labels)))\n",
    "print(\"- Input data shape\\t{}\".format(data.train.images.shape))\n",
    "print(\"- Output data shape\\t{}\".format(data.test.labels.shape))"
   ]
  },
  {
   "cell_type": "markdown",
   "metadata": {},
   "source": [
    "## Data Dimensions"
   ]
  },
  {
   "cell_type": "code",
   "execution_count": 6,
   "metadata": {},
   "outputs": [],
   "source": [
    "img_size     = 784\n",
    "img_shape    = (28, 28)\n",
    "num_channels = 1\n",
    "num_classes  = 10"
   ]
  },
  {
   "cell_type": "markdown",
   "metadata": {},
   "source": [
    "## Helper function for plotting images"
   ]
  },
  {
   "cell_type": "code",
   "execution_count": 7,
   "metadata": {},
   "outputs": [
    {
     "data": {
      "image/png": "[encoded data removed]",
      "text/plain": [
       "<matplotlib.figure.Figure at 0x7fe5eea366d8>"
      ]
     },
     "metadata": {},
     "output_type": "display_data"
    }
   ],
   "source": [
    "def plot_images(images, cls_true, cls_pred=None):\n",
    "    assert len(images) == len(cls_true) == 9\n",
    "    \n",
    "    # Create figure with 3x3 sub-plots.\n",
    "    fig, axes = plt.subplots(3, 3)\n",
    "    fig.subplots_adjust(hspace=0.3, wspace=0.3)\n",
    "\n",
    "    for i, ax in enumerate(axes.flat):\n",
    "        # Plot image.\n",
    "        ax.imshow(images[i].reshape(img_shape), cmap='binary')\n",
    "\n",
    "        # Show true and predicted classes.\n",
    "        if cls_pred is None:\n",
    "            xlabel = \"True: {0}\".format(cls_true[i])\n",
    "        else:\n",
    "            xlabel = \"True: {0}, Pred: {1}\".format(cls_true[i], cls_pred[i])\n",
    "\n",
    "        # Show the classes as the label on the x-axis.\n",
    "        ax.set_xlabel(xlabel)\n",
    "        \n",
    "        # Remove ticks from the plot.\n",
    "        ax.set_xticks([])\n",
    "        ax.set_yticks([])\n",
    "    \n",
    "    # Ensure the plot is shown correctly with multiple plots\n",
    "    # in a single Notebook cell.\n",
    "    plt.show()\n",
    "    \n",
    "# test function\n",
    "plot_images(train_data[:9], train_labels[:9])"
   ]
  },
  {
   "cell_type": "markdown",
   "metadata": {},
   "source": [
    "## Convolution Network"
   ]
  },
  {
   "cell_type": "code",
   "execution_count": 8,
   "metadata": {},
   "outputs": [],
   "source": [
    "# Create the neural network# Creat \n",
    "def conv_net(x_dict, n_classes, dropout, reuse, is_training):\n",
    "    \n",
    "    # Define a scope for reusing the variables\n",
    "    with tf.variable_scope('ConvNet', reuse=reuse):\n",
    "        # TF Estimator input is a dict, in case of multiple inputs\n",
    "        x = x_dict['images']\n",
    "\n",
    "        # MNIST data input is a 1-D vector of 784 features (28*28 pixels)\n",
    "        # Reshape to match picture format [Height x Width x Channel]\n",
    "        # Tensor input become 4-D: [Batch Size, Height, Width, Channel]\n",
    "        x = tf.reshape(x, shape=[-1, 28, 28, 1])\n",
    "\n",
    "        # Convolution Layer with 32 filters and a kernel size of 5\n",
    "        conv1 = tf.layers.conv2d(x, 32, 5, activation=tf.nn.relu)\n",
    "        # Max Pooling (down-sampling) with strides of 2 and kernel size of 2\n",
    "        conv1 = tf.layers.max_pooling2d(conv1, 2, 2)\n",
    "\n",
    "        # Convolution Layer with 64 filters and a kernel size of 3\n",
    "        conv2 = tf.layers.conv2d(conv1, 64, 3, activation=tf.nn.relu)\n",
    "        # Max Pooling (down-sampling) with strides of 2 and kernel size of 2\n",
    "        conv2 = tf.layers.max_pooling2d(conv2, 2, 2)\n",
    "\n",
    "        # Flatten the data to a 1-D vector for the fully connected layer\n",
    "        fc1 = tf.contrib.layers.flatten(conv2)\n",
    "\n",
    "        # Fully connected layer (in tf contrib folder for now)\n",
    "        fc1 = tf.layers.dense(fc1, 1024)\n",
    "        # Apply Dropout (if is_training is False, dropout is not applied)\n",
    "        fc1 = tf.layers.dropout(fc1, rate=dropout, training=is_training)\n",
    "\n",
    "        # Output layer, class prediction\n",
    "        out = tf.layers.dense(fc1, n_classes)\n",
    "\n",
    "    return out"
   ]
  },
  {
   "cell_type": "code",
   "execution_count": 9,
   "metadata": {},
   "outputs": [],
   "source": [
    "# Define the model function (following TF Estimator Template)\n",
    "def model_fn(features, labels, mode):\n",
    "    \n",
    "    # Build the neural network\n",
    "    # Because Dropout have different behavior at training and prediction time, we\n",
    "    # need to create 2 distinct computation graphs that still share the same weights.\n",
    "    logits_train = conv_net(features, num_classes, dropout, reuse=False, is_training=True)\n",
    "    logits_test = conv_net(features, num_classes, dropout, reuse=True, is_training=False)\n",
    "    \n",
    "    # Predictions\n",
    "    pred_classes = tf.argmax(logits_test, axis=1)\n",
    "    pred_probas = tf.nn.softmax(logits_test)\n",
    "    \n",
    "    # If prediction mode, early return\n",
    "    if mode == tf.estimator.ModeKeys.PREDICT:\n",
    "        return tf.estimator.EstimatorSpec(mode, predictions=pred_classes) \n",
    "        \n",
    "    # Define loss and optimizer\n",
    "    loss_op = tf.reduce_mean(tf.nn.sparse_softmax_cross_entropy_with_logits(\n",
    "        logits=logits_train, labels=tf.cast(labels, dtype=tf.int32)))\n",
    "    optimizer = tf.train.AdamOptimizer(learning_rate=learning_rate)\n",
    "    train_op = optimizer.minimize(loss_op, global_step=tf.train.get_global_step())\n",
    "    \n",
    "    # Evaluate the accuracy of the model\n",
    "    acc_op = tf.metrics.accuracy(labels=labels, predictions=pred_classes)\n",
    "    \n",
    "    # TF Estimators requires to return a EstimatorSpec, that specify\n",
    "    # the different ops for training, evaluating, ...\n",
    "    estim_specs = tf.estimator.EstimatorSpec(\n",
    "      mode=mode,\n",
    "      predictions=pred_classes,\n",
    "      loss=loss_op,\n",
    "      train_op=train_op,\n",
    "      eval_metric_ops={'accuracy': acc_op})\n",
    "\n",
    "    return estim_specs"
   ]
  },
  {
   "cell_type": "code",
   "execution_count": 10,
   "metadata": {},
   "outputs": [
    {
     "name": "stdout",
     "output_type": "stream",
     "text": [
      "INFO:tensorflow:Using default config.\n",
      "INFO:tensorflow:Using config: {'_service': None, '_log_step_count_steps': 100, '_save_summary_steps': 100, '_keep_checkpoint_max': 5, '_model_dir': '/home/woodylin/tensorflow3/Udacity_self_driving_car/Udacity_Notebook/models/mnist', '_num_worker_replicas': 1, '_save_checkpoints_secs': 600, '_num_ps_replicas': 0, '_save_checkpoints_steps': None, '_keep_checkpoint_every_n_hours': 10000, '_is_chief': True, '_session_config': None, '_task_id': 0, '_task_type': 'worker', '_tf_random_seed': None, '_cluster_spec': <tensorflow.python.training.server_lib.ClusterSpec object at 0x7fe5ec8475c0>, '_master': ''}\n"
     ]
    }
   ],
   "source": [
    "# Build the Estimator\n",
    "model = tf.estimator.Estimator(model_fn, model_dir=MODELS_PATH)"
   ]
  },
  {
   "cell_type": "code",
   "execution_count": 11,
   "metadata": {},
   "outputs": [
    {
     "name": "stdout",
     "output_type": "stream",
     "text": [
      "INFO:tensorflow:Create CheckpointSaverHook.\n",
      "INFO:tensorflow:Saving checkpoints for 1 into /home/woodylin/tensorflow3/Udacity_self_driving_car/Udacity_Notebook/models/mnist/model.ckpt.\n",
      "INFO:tensorflow:loss = 2.3263135, step = 1\n",
      "INFO:tensorflow:global_step/sec: 12.3774\n",
      "INFO:tensorflow:loss = 0.15098184, step = 101 (8.080 sec)\n",
      "INFO:tensorflow:global_step/sec: 12.2569\n",
      "INFO:tensorflow:loss = 0.15142111, step = 201 (8.159 sec)\n",
      "INFO:tensorflow:global_step/sec: 12.3868\n",
      "INFO:tensorflow:loss = 0.04779297, step = 301 (8.073 sec)\n",
      "INFO:tensorflow:global_step/sec: 12.4178\n",
      "INFO:tensorflow:loss = 0.038057916, step = 401 (8.053 sec)\n",
      "INFO:tensorflow:global_step/sec: 12.4295\n",
      "INFO:tensorflow:loss = 0.027334906, step = 501 (8.045 sec)\n",
      "INFO:tensorflow:global_step/sec: 12.357\n",
      "INFO:tensorflow:loss = 0.010292676, step = 601 (8.093 sec)\n",
      "INFO:tensorflow:global_step/sec: 12.4755\n",
      "INFO:tensorflow:loss = 0.024497136, step = 701 (8.016 sec)\n",
      "INFO:tensorflow:global_step/sec: 12.3957\n",
      "INFO:tensorflow:loss = 0.09965493, step = 801 (8.067 sec)\n",
      "INFO:tensorflow:global_step/sec: 12.5308\n",
      "INFO:tensorflow:loss = 0.058236577, step = 901 (7.980 sec)\n",
      "INFO:tensorflow:global_step/sec: 12.5316\n",
      "INFO:tensorflow:loss = 0.012291832, step = 1001 (7.980 sec)\n",
      "INFO:tensorflow:global_step/sec: 12.4254\n",
      "INFO:tensorflow:loss = 0.01483768, step = 1101 (8.048 sec)\n",
      "INFO:tensorflow:global_step/sec: 11.5805\n",
      "INFO:tensorflow:loss = 0.0042889514, step = 1201 (8.635 sec)\n",
      "INFO:tensorflow:global_step/sec: 10.9413\n",
      "INFO:tensorflow:loss = 0.008371371, step = 1301 (9.140 sec)\n",
      "INFO:tensorflow:global_step/sec: 10.605\n",
      "INFO:tensorflow:loss = 0.013507171, step = 1401 (9.429 sec)\n",
      "INFO:tensorflow:global_step/sec: 10.4834\n",
      "INFO:tensorflow:loss = 0.04836271, step = 1501 (9.539 sec)\n",
      "INFO:tensorflow:global_step/sec: 9.26527\n",
      "INFO:tensorflow:loss = 0.08658218, step = 1601 (10.793 sec)\n",
      "INFO:tensorflow:global_step/sec: 11.9906\n",
      "INFO:tensorflow:loss = 0.012314178, step = 1701 (8.341 sec)\n",
      "INFO:tensorflow:global_step/sec: 11.4869\n",
      "INFO:tensorflow:loss = 0.0065337527, step = 1801 (8.704 sec)\n",
      "INFO:tensorflow:global_step/sec: 10.6178\n",
      "INFO:tensorflow:loss = 0.003561504, step = 1901 (9.418 sec)\n",
      "INFO:tensorflow:Saving checkpoints for 2000 into /home/woodylin/tensorflow3/Udacity_self_driving_car/Udacity_Notebook/models/mnist/model.ckpt.\n",
      "INFO:tensorflow:Loss for final step: 0.029499564.\n"
     ]
    },
    {
     "data": {
      "text/plain": [
       "<tensorflow.python.estimator.estimator.Estimator at 0x7fe5ec847470>"
      ]
     },
     "execution_count": 11,
     "metadata": {},
     "output_type": "execute_result"
    }
   ],
   "source": [
    "# Training Parameters# Train \n",
    "learning_rate = 0.001\n",
    "num_steps = 2000\n",
    "batch_size = 128\n",
    "\n",
    "# Network Parameters\n",
    "num_input = 784 # MNIST data input (img shape: 28*28)\n",
    "num_classes = 10 # MNIST total classes (0-9 digits)\n",
    "dropout = 0.25 # Dropout, probability to drop a unit\n",
    "\n",
    "# Define the input function for training\n",
    "input_fn = tf.estimator.inputs.numpy_input_fn(\n",
    "    x={'images': train_data}, y=train_labels,\n",
    "    batch_size=batch_size, num_epochs=None, shuffle=True)\n",
    "# Train the Model\n",
    "model.train(input_fn, steps=num_steps)"
   ]
  },
  {
   "cell_type": "code",
   "execution_count": null,
   "metadata": {},
   "outputs": [],
   "source": []
  }
 ],
 "metadata": {
  "kernelspec": {
   "display_name": "tensorflow3",
   "language": "python",
   "name": "tensorflow3"
  },
  "language_info": {
   "codemirror_mode": {
    "name": "ipython",
    "version": 3
   },
   "file_extension": ".py",
   "mimetype": "text/x-python",
   "name": "python",
   "nbconvert_exporter": "python",
   "pygments_lexer": "ipython3",
   "version": "3.5.2"
  }
 },
 "nbformat": 4,
 "nbformat_minor": 2
}
